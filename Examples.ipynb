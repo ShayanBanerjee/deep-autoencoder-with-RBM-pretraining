{
 "cells": [
  {
   "cell_type": "markdown",
   "metadata": {},
   "source": [
    "# Examples using ``RBM.py`` and ``Autoencoder.py``\n",
    "\n",
    "This notebook demonstrates use cases for the two classes defined in this repository. There are also brief discussions of restricted Boltzmann machines in Section 1 and pretraining deep autoencoders in Section 2.A.\n",
    "\n",
    "1. Restricted Boltzmann machines with ``RBM.py``\n",
    "2. Using ``Autoencoder.py`` to pretrain a deep autoencoder.\n",
    "  1. A word about deep autoencoders\n",
    "  2. Pretraining with ``Autoencoder.py``\n",
    "3. Applications of deep autoencoders:\n",
    "  1. Classification\n",
    "  2. Cluster analysis\n",
    "  3. Generation\n",
    "  4. 2D Visualization"
   ]
  },
  {
   "cell_type": "markdown",
   "metadata": {},
   "source": [
    "# 1. Restricted Boltzmann machines with ``RBM.py``\n",
    "\n",
    "Restricted Boltzmann machines are the building block for pretraining our deep autoencoder. In this section, we demonstrate how ``RBM.py`` can be used on it's own."
   ]
  },
  {
   "cell_type": "code",
   "execution_count": 1,
   "metadata": {},
   "outputs": [],
   "source": [
    "import numpy as np\n",
    "import random\n",
    "import matplotlib.pyplot as plt\n",
    "\n",
    "from RBM import *"
   ]
  },
  {
   "cell_type": "markdown",
   "metadata": {},
   "source": [
    "We will train our RBM's on the MNIST data set for a demonstration. Since Boltzmann machines model binary data, we first convert our greyscale images to black and white by choosing a threshold greyscale value.\n",
    "\n",
    "### Loading the data"
   ]
  },
  {
   "cell_type": "code",
   "execution_count": 222,
   "metadata": {},
   "outputs": [],
   "source": [
    "# helper fcn\n",
    "import struct\n",
    "def read_idx(filename):\n",
    "    with open(filename, 'rb') as f:\n",
    "        zero, data_type, dims = struct.unpack('>HBB', f.read(4))\n",
    "        shape = tuple(struct.unpack('>I', f.read(4))[0] for d in range(dims))\n",
    "        return np.frombuffer(f.read(), dtype=np.uint8).reshape(shape) "
   ]
  },
  {
   "cell_type": "code",
   "execution_count": 223,
   "metadata": {},
   "outputs": [],
   "source": [
    "# get the files yourself from http://yann.lecun.com/exdb/mnist/\n",
    "# load training data\n",
    "\n",
    "x    = read_idx(\"train-images-idx3-ubyte\").reshape((60000,784)).T/255.\n",
    "x_bw = (x > 0.705).astype(int)  \n",
    "\n",
    "y = np_utils.to_categorical(read_idx(\"train-labels-idx1-ubyte\"))\n",
    "\n",
    "# load test data\n",
    "\n",
    "test_images    = read_idx(\"t10k-images-idx3-ubyte\").reshape((10000,784)).T/255.\n",
    "test_images_bw = (test_images > 0.705).astype(int)\n",
    "test_labels    = np_utils.to_categorical(read_idx(\"t10k-labels-idx1-ubyte\"))"
   ]
  },
  {
   "cell_type": "code",
   "execution_count": 224,
   "metadata": {},
   "outputs": [
    {
     "data": {
      "image/png": "[encoded data removed]",
      "text/plain": [
       "<Figure size 432x288 with 2 Axes>"
      ]
     },
     "metadata": {},
     "output_type": "display_data"
    }
   ],
   "source": [
    "# here is an example of an image from MNIST, converted to B&W\n",
    "f, ax = plt.subplots(1,2, sharex=True)\n",
    "ax[0].imshow(x[:,0].reshape((28,28)),cmap=plt.cm.gray)\n",
    "ax[0].axis('off')\n",
    "ax[0].set_title(\"original greyscale\")\n",
    "ax[1].imshow(x_bw[:,0].reshape((28,28)),cmap=plt.cm.gray)\n",
    "ax[1].axis('off')\n",
    "ax[1].set_title(\"original B&W\")\n",
    "\n",
    "plt.show()"
   ]
  },
  {
   "cell_type": "markdown",
   "metadata": {},
   "source": [
    "### Loading a trained RBM\n",
    "\n",
    "A RBM model can be trained on this data set by first initializing an RBM object, and then running the training algorithm, which performs the contrastive divergence algorithm of Hinton. \n",
    "\n",
    "    rbm = RBM(v_dim = 784, h_dim = 1000)\n",
    "    rbm.train(x, epochs = 20, batch_size = 20, learning_rate = .1, plot=False)\n",
    "    \n",
    "When initializing a RBM object from scratch, ``v_dim`` is the number of visible units and ``h_dim`` is the number of hidden units.  There is also the option to initialize a new RBM object from pretrained weights or from a file (demonstrated below).\n",
    "\n",
    "The training algorithm uses minibatches, and has the option (``plot=True``) of plotting weight histograms to help with debugging.  Once a RBM has been trained, the weights can be saved to a file by calling ``rbm.save(filename)``.\n",
    "\n",
    "By default, the training algorithm initializes weights when it is run. If you want to continue training from previous weights, include the optional argument ``initialize_weights = True``.\n",
    "\n",
    "Since training a RBM can take some time, we will load a pretrained model (that was trained on MNIST using the lines of code above)."
   ]
  },
  {
   "cell_type": "code",
   "execution_count": 225,
   "metadata": {},
   "outputs": [],
   "source": [
    "# load pre-trained RBM\n",
    "rbm = RBM.from_File(\"./trained_weights/rbm/20_epochs\")"
   ]
  },
  {
   "cell_type": "markdown",
   "metadata": {},
   "source": [
    "### Data reconstruction\n",
    "\n",
    "The first goal in training a RBM is to be able to reconstruct examples well. Let's try this first on examples from the training set."
   ]
  },
  {
   "cell_type": "code",
   "execution_count": 198,
   "metadata": {},
   "outputs": [
    {
     "data": {
      "image/png": "[encoded data removed]",
      "text/plain": [
       "<Figure size 432x288 with 3 Axes>"
      ]
     },
     "metadata": {},
     "output_type": "display_data"
    }
   ],
   "source": [
    "image_no = 20 # change this number to compare other reconstructed digits\n",
    "\n",
    "v,_ = rbm.gibbs_sampling(1,1,x_bw[:,image_no].reshape((784,1)))\n",
    "\n",
    "# plot\n",
    "f, ax = plt.subplots(1,3, sharex=True)\n",
    "ax[0].imshow(x[:,image_no].reshape((28,28)),cmap=plt.cm.gray)\n",
    "ax[0].axis('off')\n",
    "ax[0].set_title(\"Original greyscale\")\n",
    "ax[1].imshow(x_bw[:,image_no].reshape((28,28)),cmap=plt.cm.gray)\n",
    "ax[1].axis('off')\n",
    "ax[1].set_title(\"Original B&W\")\n",
    "ax[2].imshow(v.reshape((28,28)),cmap=plt.cm.gray)\n",
    "ax[2].axis('off')\n",
    "ax[2].set_title(\"Reconstructed\")\n",
    "plt.show()"
   ]
  },
  {
   "cell_type": "markdown",
   "metadata": {},
   "source": [
    "Next, let's see how the RBM reconstructs images from the yet-unseen test set."
   ]
  },
  {
   "cell_type": "code",
   "execution_count": 227,
   "metadata": {},
   "outputs": [
    {
     "data": {
      "image/png": "[encoded data removed]",
      "text/plain": [
       "<Figure size 432x288 with 10 Axes>"
      ]
     },
     "metadata": {},
     "output_type": "display_data"
    }
   ],
   "source": [
    "f, ax = plt.subplots(2,5,sharex=True)\n",
    "\n",
    "for i in range(5):\n",
    "    ax[0,i].imshow(test_images_bw[:,i].reshape((28,28)),cmap=plt.cm.gray)\n",
    "    ax[0,i].axis('off')\n",
    "    \n",
    "    v,_ = rbm.gibbs_sampling(1,1,test_images_bw[:,i].reshape((784,1)))\n",
    "    ax[1,i].imshow(v.reshape((28,28)),cmap=plt.cm.gray)\n",
    "    ax[1,i].axis('off')\n",
    "    \n",
    "plt.subplots_adjust(wspace=0.1, hspace=.0)\n",
    "plt.show()"
   ]
  },
  {
   "cell_type": "markdown",
   "metadata": {},
   "source": [
    "### Data generation\n",
    "\n",
    "Finally, let's see how well the RBM generates images from random noise."
   ]
  },
  {
   "cell_type": "code",
   "execution_count": 244,
   "metadata": {},
   "outputs": [
    {
     "data": {
      "image/png": "[encoded data removed]",
      "text/plain": [
       "<Figure size 720x720 with 25 Axes>"
      ]
     },
     "metadata": {},
     "output_type": "display_data"
    }
   ],
   "source": [
    "# randomly generate an image (would benefit from more epochs of training)\n",
    "\n",
    "v,_ = rbm.gibbs_sampling(100,25) # if no data is passed to the sampling fcn, it starts with random noise\n",
    "\n",
    "f, ax = plt.subplots(5,5, figsize=(10,10),sharex=True)\n",
    "for i in range(5):\n",
    "    for j in range(5):\n",
    "        ax[i,j].imshow(v[:,5*i+j].reshape((28,28)),cmap=plt.cm.gray)\n",
    "        ax[i,j].axis('off')\n",
    "plt.subplots_adjust(wspace=0, hspace=.1)\n",
    "plt.show()"
   ]
  },
  {
   "cell_type": "markdown",
   "metadata": {},
   "source": [
    "# 2. Using ``Autoencoder.py`` to pretrain a deep autoencoder.\n",
    "\n",
    "## A. A word about deep autoencoders\n",
    "\n",
    "Theoretically, deep autoencoders are ideal models to have when you want to deal with high-dimensional data. They provide a compressed representation that retains information and can be used for many purposes. If the compressed representation an autoencoder learns is \"good\" then it can be used for classification and data generation tasks, as well as more exploratory tasks like cluster analysis and visualization.  Although there are many other dimensionality reduction algorithms like PCA, autoencoders generally perform much better than alternatives if the dimension is sufficiently large (cf. Hinton-Salakhutdinov, 2006). \n",
    "\n",
    "The difficulty with deep autoencoders is that the loss function is highly non-convex and learning with gradient-descent using random weight initializations can result in learning \"bad\" representations that lose vital information. \n",
    "\n",
    "One solution to this problem (among many others, such as sparse and variational autoencoders) is to first perform greedy layer-wise pretraining of the weights with restricted Boltzmann machines. This seems to resolve the problem of bad initializations (cf. Erhan et al., 2010). \n",
    "\n",
    "[1] Hinton and Salakhutdinov, 2006. \"Reducing the Dimensionality of Data with Neural Networks.\" Science.\n",
    "\n",
    "[2] Erhan et al., 2010. \"Why Does Unsupervised Pre-training Help Deep Learning?\" J. Mach. Learn. Res."
   ]
  },
  {
   "cell_type": "markdown",
   "metadata": {},
   "source": [
    "## B. Pretraining with ``Autoencoder.py``\n",
    "\n",
    "The class ``Autoencoder`` performs layerwise pretraining with RBMs, then unrolls the layers into a deep autoencoder model. The pretrained deep autoencoder is returned as a Keras model, which the user can then take and fine-tune with gradient descent.\n",
    "\n",
    "Here is a brief example of how it might work in practice. In the next section we will load weights from a model that has been trained much longer (and has a better achitecture, in terms of layer dimensions)."
   ]
  },
  {
   "cell_type": "code",
   "execution_count": 6,
   "metadata": {
    "scrolled": true
   },
   "outputs": [
    {
     "name": "stderr",
     "output_type": "stream",
     "text": [
      "/anaconda3/envs/tensorflow/lib/python3.6/site-packages/h5py/__init__.py:36: FutureWarning: Conversion of the second argument of issubdtype from `float` to `np.floating` is deprecated. In future, it will be treated as `np.float64 == np.dtype(float).type`.\n",
      "  from ._conv import register_converters as _register_converters\n",
      "Using TensorFlow backend.\n"
     ]
    },
    {
     "name": "stdout",
     "output_type": "stream",
     "text": [
      "Layer dimensions:\n",
      "Layer 0: 784\n",
      "Layer 1: 200\n",
      "Layer 2: 30\n"
     ]
    }
   ],
   "source": [
    "from keras.models import Model\n",
    "from Autoencoder import *\n",
    "\n",
    "example_autoencoder = Autoencoder(layer_dims = [784,200,30])"
   ]
  },
  {
   "cell_type": "code",
   "execution_count": 8,
   "metadata": {},
   "outputs": [
    {
     "name": "stdout",
     "output_type": "stream",
     "text": [
      "Training RBM layer 1\n",
      "Epoch 1\n",
      "Training RBM layer 2\n",
      "Epoch 1\n"
     ]
    }
   ],
   "source": [
    "example_autoencoder.pretrain(x,epochs = 1,num_samples = 1000)\n",
    "example_model = example_autoencoder.unroll()"
   ]
  },
  {
   "cell_type": "code",
   "execution_count": 9,
   "metadata": {},
   "outputs": [
    {
     "name": "stdout",
     "output_type": "stream",
     "text": [
      "_________________________________________________________________\n",
      "Layer (type)                 Output Shape              Param #   \n",
      "=================================================================\n",
      "input_1 (InputLayer)         (None, 784)               0         \n",
      "_________________________________________________________________\n",
      "dense_1 (Dense)              (None, 200)               157000    \n",
      "_________________________________________________________________\n",
      "dense_2 (Dense)              (None, 30)                6030      \n",
      "_________________________________________________________________\n",
      "dense_3 (Dense)              (None, 200)               6200      \n",
      "_________________________________________________________________\n",
      "dense_4 (Dense)              (None, 784)               157584    \n",
      "=================================================================\n",
      "Total params: 326,814\n",
      "Trainable params: 326,814\n",
      "Non-trainable params: 0\n",
      "_________________________________________________________________\n"
     ]
    }
   ],
   "source": [
    "example_model.summary()"
   ]
  },
  {
   "cell_type": "markdown",
   "metadata": {},
   "source": [
    "# 3. Applications of autoencoders\n",
    "\n",
    "In this section, we demonstrate various use cases for a trained autoencoder. Since training a deep autoencoder can take some time, we load a model that we have already trained.\n",
    "\n",
    "This model was trained as follows:\n",
    "1. First the model was pretrained using ``Autoencoder.py`` for 10 epochs on each layer (generating 50000 samples each time for the training of the next layer).\n",
    "2. Second, the model was fine-tuned in Keras for 4 epochs, using mostly default parameters (rmsprop, mse, batch size = 20)."
   ]
  },
  {
   "cell_type": "code",
   "execution_count": 245,
   "metadata": {},
   "outputs": [],
   "source": [
    "from keras.models import Model, Sequential, load_model\n",
    "from keras.layers import Input, Dense"
   ]
  },
  {
   "cell_type": "code",
   "execution_count": 246,
   "metadata": {},
   "outputs": [
    {
     "name": "stdout",
     "output_type": "stream",
     "text": [
      "_________________________________________________________________\n",
      "Layer (type)                 Output Shape              Param #   \n",
      "=================================================================\n",
      "input_1 (InputLayer)         (None, 784)               0         \n",
      "_________________________________________________________________\n",
      "dense_1 (Dense)              (None, 1000)              785000    \n",
      "_________________________________________________________________\n",
      "dense_2 (Dense)              (None, 500)               500500    \n",
      "_________________________________________________________________\n",
      "dense_3 (Dense)              (None, 250)               125250    \n",
      "_________________________________________________________________\n",
      "dense_4 (Dense)              (None, 30)                7530      \n",
      "_________________________________________________________________\n",
      "dense_5 (Dense)              (None, 250)               7750      \n",
      "_________________________________________________________________\n",
      "dense_6 (Dense)              (None, 500)               125500    \n",
      "_________________________________________________________________\n",
      "dense_7 (Dense)              (None, 1000)              501000    \n",
      "_________________________________________________________________\n",
      "dense_8 (Dense)              (None, 784)               784784    \n",
      "=================================================================\n",
      "Total params: 2,837,314\n",
      "Trainable params: 2,837,314\n",
      "Non-trainable params: 0\n",
      "_________________________________________________________________\n"
     ]
    }
   ],
   "source": [
    "# load the model, which we have pretrained and then fine-tuned \n",
    "model = load_model(\"trained_weights/fine-tuned/keras_model.h5\")\n",
    "model.summary()"
   ]
  },
  {
   "cell_type": "markdown",
   "metadata": {},
   "source": [
    "## A. Classification\n",
    "\n",
    "If the encoder portion of an autoencoder has learned a \"good\" compression/coding of the data, then the outputs of the encoder (the codes) should retain enough information to make classification possible. On the other hand, if the autoencoder learned a bad coding, using codes for classification should be impossible.\n",
    "\n",
    "A classifier is created by composing the encoder portion of the network with a shallow neural network for classification (in this case, 2 layers with a softmax output and L2 regularization). Since the codes should retain useful information for classification, the weights of the encoder network are left frozen while training."
   ]
  },
  {
   "cell_type": "code",
   "execution_count": 151,
   "metadata": {},
   "outputs": [],
   "source": [
    "from keras.utils import np_utils\n",
    "from keras.callbacks import Callback\n",
    "from keras import regularizers\n",
    "from livelossplot import PlotLossesKeras"
   ]
  },
  {
   "cell_type": "code",
   "execution_count": 152,
   "metadata": {},
   "outputs": [
    {
     "name": "stdout",
     "output_type": "stream",
     "text": [
      "_________________________________________________________________\n",
      "Layer (type)                 Output Shape              Param #   \n",
      "=================================================================\n",
      "input_18 (InputLayer)        (None, 784)               0         \n",
      "_________________________________________________________________\n",
      "dense_1 (Dense)              (None, 1000)              785000    \n",
      "_________________________________________________________________\n",
      "dense_2 (Dense)              (None, 500)               500500    \n",
      "_________________________________________________________________\n",
      "dense_3 (Dense)              (None, 250)               125250    \n",
      "_________________________________________________________________\n",
      "dense_4 (Dense)              (None, 30)                7530      \n",
      "_________________________________________________________________\n",
      "dense_17 (Dense)             (None, 20)                620       \n",
      "_________________________________________________________________\n",
      "dense_18 (Dense)             (None, 10)                210       \n",
      "=================================================================\n",
      "Total params: 1,419,110\n",
      "Trainable params: 830\n",
      "Non-trainable params: 1,418,280\n",
      "_________________________________________________________________\n"
     ]
    }
   ],
   "source": [
    "# build the classifier model\n",
    "\n",
    "inputs = Input(shape=(784,))\n",
    "\n",
    "# the encoder layers of the autoencoder model\n",
    "# these layers are frozen\n",
    "\n",
    "layer1 = model.get_layer(\"dense_1\")\n",
    "X = layer1(inputs)\n",
    "layer1.trainable = False\n",
    "\n",
    "layer2 = model.get_layer(\"dense_2\")\n",
    "X = layer2(X)\n",
    "layer2.trainable = False\n",
    "\n",
    "layer3 = model.get_layer(\"dense_3\")\n",
    "X = layer3(X)\n",
    "layer3.trainable = False\n",
    "\n",
    "layer4 = model.get_layer(\"dense_4\")\n",
    "X = layer4(X)\n",
    "layer4.trainable = False\n",
    "\n",
    "# we add a 2-layer neural network for classification. This part has trainable weights\n",
    "X = Dense(20,kernel_regularizer=regularizers.l2(0.005))(X)\n",
    "Y = Dense(10, activation='softmax')(X)\n",
    "            \n",
    "classifier = Model(inputs,Y)\n",
    "\n",
    "classifier.compile(loss='categorical_crossentropy', optimizer='adam', metrics=['accuracy'])\n",
    "classifier.summary()"
   ]
  },
  {
   "cell_type": "code",
   "execution_count": 153,
   "metadata": {},
   "outputs": [
    {
     "data": {
      "image/png": "[encoded data removed]",
      "text/plain": [
       "<Figure size 864x576 with 2 Axes>"
      ]
     },
     "metadata": {},
     "output_type": "display_data"
    },
    {
     "data": {
      "text/plain": [
       "<keras.callbacks.History at 0xd56f34fd0>"
      ]
     },
     "execution_count": 153,
     "metadata": {},
     "output_type": "execute_result"
    }
   ],
   "source": [
    "classifier.fit(x.T,y,epochs=20,validation_split=.05,callbacks=[PlotLossesKeras()])"
   ]
  },
  {
   "cell_type": "code",
   "execution_count": 247,
   "metadata": {},
   "outputs": [
    {
     "name": "stdout",
     "output_type": "stream",
     "text": [
      "10000/10000 [==============================] - 2s 167us/step\n",
      "Classifier accuracy on test set = 98.05%\n"
     ]
    }
   ],
   "source": [
    "score = classifier.evaluate(test_images.T,test_labels)\n",
    "\n",
    "print(\"Classifier accuracy on test set = %.2f%%\"%(score[1]*100))\n"
   ]
  },
  {
   "cell_type": "markdown",
   "metadata": {},
   "source": [
    "While certainly not state-of-the-art, this is decent accuracy. Our autoencoder has leared a 30 dimensional representation of the data that doesn't lose a significant amount of information about classification."
   ]
  },
  {
   "cell_type": "markdown",
   "metadata": {},
   "source": [
    "## B. Using encoded data for cluster analysis\n",
    "\n",
    "If the autoencoder has learned a good compression of the data, then the 30 dimensional codes should be suitable for cluster analysis.\n",
    "\n"
   ]
  },
  {
   "cell_type": "code",
   "execution_count": 250,
   "metadata": {},
   "outputs": [
    {
     "name": "stdout",
     "output_type": "stream",
     "text": [
      "_________________________________________________________________\n",
      "Layer (type)                 Output Shape              Param #   \n",
      "=================================================================\n",
      "input_23 (InputLayer)        (None, 784)               0         \n",
      "_________________________________________________________________\n",
      "dense_1 (Dense)              (None, 1000)              785000    \n",
      "_________________________________________________________________\n",
      "dense_2 (Dense)              (None, 500)               500500    \n",
      "_________________________________________________________________\n",
      "dense_3 (Dense)              (None, 250)               125250    \n",
      "_________________________________________________________________\n",
      "dense_4 (Dense)              (None, 30)                7530      \n",
      "=================================================================\n",
      "Total params: 1,418,280\n",
      "Trainable params: 0\n",
      "Non-trainable params: 1,418,280\n",
      "_________________________________________________________________\n"
     ]
    }
   ],
   "source": [
    "# build the encoder model\n",
    "\n",
    "inputs = Input(shape=(784,))\n",
    "\n",
    "# the encoder layers of the autoencoder model\n",
    "# these layers are frozen\n",
    "\n",
    "layer1 = model.get_layer(\"dense_1\")\n",
    "X = layer1(inputs)\n",
    "layer1.trainable = False\n",
    "\n",
    "layer2 = model.get_layer(\"dense_2\")\n",
    "X = layer2(X)\n",
    "layer2.trainable = False\n",
    "\n",
    "layer3 = model.get_layer(\"dense_3\")\n",
    "X = layer3(X)\n",
    "layer3.trainable = False\n",
    "\n",
    "layer4 = model.get_layer(\"dense_4\")\n",
    "Y = layer4(X)\n",
    "layer4.trainable = False\n",
    "            \n",
    "encoder = Model(inputs,Y)\n",
    "\n",
    "encoder.compile(loss='categorical_crossentropy', optimizer='adam', metrics=['accuracy'])\n",
    "encoder.summary()"
   ]
  },
  {
   "cell_type": "markdown",
   "metadata": {},
   "source": [
    "We use ``encoder`` to compress the training data to 30 dimensional vectors."
   ]
  },
  {
   "cell_type": "code",
   "execution_count": 252,
   "metadata": {},
   "outputs": [],
   "source": [
    "codes = encoder.predict(x.T)"
   ]
  },
  {
   "cell_type": "code",
   "execution_count": 270,
   "metadata": {},
   "outputs": [
    {
     "data": {
      "text/plain": [
       "array([-2.2913525 ,  3.3301835 ,  7.0630836 , -2.246519  ,  2.201845  ,\n",
       "       -2.5212908 ,  0.35492405, 10.238344  ,  3.7134655 , -1.5280493 ,\n",
       "       -5.23599   , -6.45432   ,  5.9130554 , -1.2898684 ,  4.1333323 ,\n",
       "       -1.8035772 , -1.2061745 ,  1.0972081 , -9.438332  ,  0.2425302 ,\n",
       "       -2.1914582 ,  0.15309489, -4.6018476 , -5.250745  , -0.60072404,\n",
       "       -2.412487  , -7.169611  , -4.7054787 ,  4.960115  ,  4.8273478 ],\n",
       "      dtype=float32)"
      ]
     },
     "execution_count": 270,
     "metadata": {},
     "output_type": "execute_result"
    }
   ],
   "source": [
    "codes[0]"
   ]
  },
  {
   "cell_type": "markdown",
   "metadata": {},
   "source": [
    "### Code distribution\n",
    "\n",
    "In order to gain insight into the codes created by the encoder, let's plot some basic information about them."
   ]
  },
  {
   "cell_type": "code",
   "execution_count": 269,
   "metadata": {},
   "outputs": [
    {
     "data": {
      "image/png": "[encoded data removed]",
      "text/plain": [
       "<Figure size 432x288 with 1 Axes>"
      ]
     },
     "metadata": {},
     "output_type": "display_data"
    }
   ],
   "source": [
    "n, bins, patches = plt.hist(codes, 5,density=True, facecolor='b', alpha=0.75)\n",
    "plt.xlabel('Value')\n",
    "plt.ylabel('Frequency')\n",
    "plt.title('Code entry values')\n",
    "plt.axis([-13, 13, 0, .3])\n",
    "plt.grid(True)\n",
    "plt.show()"
   ]
  },
  {
   "cell_type": "code",
   "execution_count": 285,
   "metadata": {},
   "outputs": [
    {
     "data": {
      "image/png": "[encoded data removed]",
      "text/plain": [
       "<Figure size 432x288 with 1 Axes>"
      ]
     },
     "metadata": {},
     "output_type": "display_data"
    },
    {
     "name": "stdout",
     "output_type": "stream",
     "text": [
      "[[-1.8361785   3.3848429   7.86609    -2.4334025   2.617788    0.56163514]\n",
      " [ 0.1497685   8.141076    4.765127   -0.8515972  -5.896228   -5.5220375 ]\n",
      " [ 5.894301   -1.8572944   3.2929423  -2.6655407  -0.97429115 -1.0957441 ]\n",
      " [-8.766015    2.4738386  -4.856585   -0.7365177  -5.625187   -5.546479  ]\n",
      " [ 2.7168913  -1.6339879  -5.6840205  -4.840582    5.2115965   5.8746786 ]]\n"
     ]
    }
   ],
   "source": [
    "mean = np.mean(codes,axis=0).reshape((5,6))\n",
    "\n",
    "plt.imshow(mean, cmap='binary', interpolation='nearest')\n",
    "plt.title(\"Code entry means\")\n",
    "plt.axis('off')\n",
    "plt.show()\n",
    "\n",
    "print(mean)"
   ]
  },
  {
   "cell_type": "code",
   "execution_count": 286,
   "metadata": {},
   "outputs": [
    {
     "data": {
      "image/png": "[encoded data removed]",
      "text/plain": [
       "<Figure size 432x288 with 1 Axes>"
      ]
     },
     "metadata": {},
     "output_type": "display_data"
    },
    {
     "name": "stdout",
     "output_type": "stream",
     "text": [
      "[[1.9013717 1.896165  3.8908253 2.0841541 2.395903  1.9623002]\n",
      " [1.8757001 3.832846  2.0097847 1.9990046 3.255557  2.6128914]\n",
      " [3.7960765 1.7024859 1.544936  3.319357  1.9188695 2.9331574]\n",
      " [2.188781  1.6210797 2.1013472 2.4315732 2.544603  1.7730525]\n",
      " [3.0568364 1.3284072 2.0428433 1.9257643 2.4498227 1.8579967]]\n"
     ]
    }
   ],
   "source": [
    "var = np.var(codes,axis=0).reshape((5,6))\n",
    "\n",
    "plt.imshow(var, cmap='binary', interpolation='nearest')\n",
    "plt.title(\"Code entry variances\")\n",
    "plt.axis('off')\n",
    "plt.show()\n",
    "\n",
    "print(var)"
   ]
  },
  {
   "cell_type": "markdown",
   "metadata": {},
   "source": [
    "## C. Generation\n",
    "\n",
    "In order to perform generation, we should use a sigmoid activation for all layers."
   ]
  },
  {
   "cell_type": "code",
   "execution_count": 248,
   "metadata": {},
   "outputs": [
    {
     "name": "stdout",
     "output_type": "stream",
     "text": [
      "_________________________________________________________________\n",
      "Layer (type)                 Output Shape              Param #   \n",
      "=================================================================\n",
      "input_22 (InputLayer)        (None, 30)                0         \n",
      "_________________________________________________________________\n",
      "dense_5 (Dense)              (None, 250)               7750      \n",
      "_________________________________________________________________\n",
      "dense_6 (Dense)              (None, 500)               125500    \n",
      "_________________________________________________________________\n",
      "dense_7 (Dense)              (None, 1000)              501000    \n",
      "_________________________________________________________________\n",
      "dense_8 (Dense)              (None, 784)               784784    \n",
      "=================================================================\n",
      "Total params: 1,419,034\n",
      "Trainable params: 1,419,034\n",
      "Non-trainable params: 0\n",
      "_________________________________________________________________\n"
     ]
    }
   ],
   "source": [
    "# build the generator/decoder model\n",
    "\n",
    "noise = Input(shape=(30,))\n",
    "X = model.get_layer(\"dense_5\")(noise)\n",
    "X = model.get_layer(\"dense_6\")(X)\n",
    "X = model.get_layer(\"dense_7\")(X)\n",
    "Y = model.get_layer(\"dense_8\")(X)\n",
    "            \n",
    "decoder = Model(noise,Y)\n",
    "decoder.summary()"
   ]
  },
  {
   "cell_type": "code",
   "execution_count": 287,
   "metadata": {},
   "outputs": [
    {
     "name": "stdout",
     "output_type": "stream",
     "text": [
      "[ 2.52402614 -1.44022483 -3.33258078 -7.16677628  6.78243566  3.279462\n",
      "  9.76128883 -8.09606264 -2.05432973 -4.59238853  8.15735814 -4.18807631\n",
      "  6.29590593 -1.61145364  0.2642908  -1.00609818 -5.73843329  4.97587672\n",
      " -9.54302543 -5.27845543 -3.08638842  8.40087959 -2.0164632  -4.80795994\n",
      " -0.52806809 -2.14771821 -4.16599102  1.16973731 -9.33589312  6.6886695 ]\n"
     ]
    },
    {
     "data": {
      "image/png": "[encoded data removed]",
      "text/plain": [
       "<Figure size 720x720 with 25 Axes>"
      ]
     },
     "metadata": {},
     "output_type": "display_data"
    }
   ],
   "source": [
    "noise = 20*np.random.random((25,30))-10\n",
    "print(noise[0])\n",
    "image = 255.*decoder.predict(noise)\n",
    "\n",
    "f, ax = plt.subplots(5,5, figsize=(10,10),sharex=True)\n",
    "for i in range(5):\n",
    "    for j in range(5):\n",
    "        ax[i,j].imshow(image[5*i+j].reshape((28,28)),cmap=plt.cm.gray)\n",
    "        ax[i,j].axis('off')\n",
    "plt.subplots_adjust(wspace=0, hspace=.1)\n",
    "plt.show()"
   ]
  },
  {
   "cell_type": "markdown",
   "metadata": {},
   "source": [
    "## D. Visualization\n",
    "\n",
    "To get a 2D visualization, train an autoencoder whose code layer has dimension 2.\n",
    "\n",
    "We've already pretrained several layers of our autoencoder for clustering and classification, so we just need to pretrain one final layer. Let's be lazy and use the first 4 layers of our fine-tuned model to generate the training data for the final RBM layer."
   ]
  },
  {
   "cell_type": "code",
   "execution_count": 178,
   "metadata": {},
   "outputs": [],
   "source": [
    "data = df.values[:,1:]/255\n",
    "\n",
    "# in case you haven't run the cells in the previous section, load the trained autoencoder from file\n",
    "model = load_model(\"trained_weights/keras_model.h5\")\n",
    "\n",
    "inputs = Input(shape=(784,))\n",
    "\n",
    "layer1 = model.get_layer(\"dense_1\")\n",
    "X = layer1(inputs)\n",
    "\n",
    "layer2 = model.get_layer(\"dense_2\")\n",
    "X = layer2(X)\n",
    "\n",
    "layer3 = model.get_layer(\"dense_3\")\n",
    "Y = layer3(X)\n",
    "            \n",
    "model_first_three_layers = Model(inputs,Y)\n",
    "model_first_three_layers.compile(loss='categorical_crossentropy', optimizer='adam', metrics=['accuracy'])\n",
    "\n",
    "training_data = model_first_three_layers.predict(data)\n",
    "training_data = (training_data>.5)"
   ]
  },
  {
   "cell_type": "code",
   "execution_count": 182,
   "metadata": {},
   "outputs": [
    {
     "data": {
      "text/plain": [
       "(42000, 250)"
      ]
     },
     "execution_count": 182,
     "metadata": {},
     "output_type": "execute_result"
    }
   ],
   "source": [
    "training_data.shape"
   ]
  },
  {
   "cell_type": "code",
   "execution_count": 183,
   "metadata": {},
   "outputs": [
    {
     "name": "stdout",
     "output_type": "stream",
     "text": [
      "Epoch 1\n"
     ]
    },
    {
     "name": "stderr",
     "output_type": "stream",
     "text": [
      "/anaconda3/envs/tensorflow/lib/python3.6/site-packages/numpy/core/_methods.py:70: RuntimeWarning: overflow encountered in reduce\n",
      "  ret = umr_sum(arr, axis, dtype, out, keepdims)\n"
     ]
    },
    {
     "ename": "AssertionError",
     "evalue": "",
     "output_type": "error",
     "traceback": [
      "\u001b[0;31m---------------------------------------------------------------------------\u001b[0m",
      "\u001b[0;31mAssertionError\u001b[0m                            Traceback (most recent call last)",
      "\u001b[0;32m<ipython-input-183-29095f30f5b8>\u001b[0m in \u001b[0;36m<module>\u001b[0;34m()\u001b[0m\n\u001b[1;32m      7\u001b[0m                   \u001b[0mbatch_size\u001b[0m \u001b[0;34m=\u001b[0m \u001b[0;36m20\u001b[0m\u001b[0;34m,\u001b[0m\u001b[0;34m\u001b[0m\u001b[0m\n\u001b[1;32m      8\u001b[0m                   \u001b[0mlearning_rate\u001b[0m \u001b[0;34m=\u001b[0m \u001b[0;36m.1\u001b[0m\u001b[0;34m,\u001b[0m\u001b[0;34m\u001b[0m\u001b[0m\n\u001b[0;32m----> 9\u001b[0;31m                   plot=True)\n\u001b[0m",
      "\u001b[0;32m~/Documents/RBM/deep_autoencoder/RBM_with_linear_hidden_units.py\u001b[0m in \u001b[0;36mtrain\u001b[0;34m(self, x, epochs, batch_size, learning_rate, plot, initialize_weights)\u001b[0m\n\u001b[1;32m     93\u001b[0m \u001b[0;34m\u001b[0m\u001b[0m\n\u001b[1;32m     94\u001b[0m                 \u001b[0;31m# get negative probs and product\u001b[0m\u001b[0;34m\u001b[0m\u001b[0;34m\u001b[0m\u001b[0m\n\u001b[0;32m---> 95\u001b[0;31m                 \u001b[0mv_neg_probs\u001b[0m  \u001b[0;34m=\u001b[0m \u001b[0mself\u001b[0m\u001b[0;34m.\u001b[0m\u001b[0mv_probs\u001b[0m\u001b[0;34m(\u001b[0m\u001b[0mh_pos_states\u001b[0m\u001b[0;34m)\u001b[0m\u001b[0;34m\u001b[0m\u001b[0m\n\u001b[0m\u001b[1;32m     96\u001b[0m                 \u001b[0mh_neg_probs\u001b[0m  \u001b[0;34m=\u001b[0m \u001b[0mself\u001b[0m\u001b[0;34m.\u001b[0m\u001b[0mh_probs\u001b[0m\u001b[0;34m(\u001b[0m\u001b[0mv_neg_probs\u001b[0m\u001b[0;34m)\u001b[0m\u001b[0;34m\u001b[0m\u001b[0m\n\u001b[1;32m     97\u001b[0m                 \u001b[0mneg_prods\u001b[0m    \u001b[0;34m=\u001b[0m \u001b[0mv_neg_probs\u001b[0m\u001b[0;34m[\u001b[0m\u001b[0;34m:\u001b[0m\u001b[0;34m,\u001b[0m\u001b[0mnp\u001b[0m\u001b[0;34m.\u001b[0m\u001b[0mnewaxis\u001b[0m\u001b[0;34m,\u001b[0m\u001b[0;34m:\u001b[0m\u001b[0;34m]\u001b[0m\u001b[0;34m*\u001b[0m\u001b[0mh_neg_probs\u001b[0m\u001b[0;34m[\u001b[0m\u001b[0mnp\u001b[0m\u001b[0;34m.\u001b[0m\u001b[0mnewaxis\u001b[0m\u001b[0;34m,\u001b[0m\u001b[0;34m:\u001b[0m\u001b[0;34m,\u001b[0m\u001b[0;34m:\u001b[0m\u001b[0;34m]\u001b[0m\u001b[0;34m\u001b[0m\u001b[0m\n",
      "\u001b[0;32m~/Documents/RBM/deep_autoencoder/RBM.py\u001b[0m in \u001b[0;36mv_probs\u001b[0;34m(self, h)\u001b[0m\n\u001b[1;32m     59\u001b[0m         \u001b[0;32massert\u001b[0m\u001b[0;34m(\u001b[0m\u001b[0mh\u001b[0m\u001b[0;34m.\u001b[0m\u001b[0mshape\u001b[0m\u001b[0;34m[\u001b[0m\u001b[0;36m0\u001b[0m\u001b[0;34m]\u001b[0m \u001b[0;34m==\u001b[0m \u001b[0mself\u001b[0m\u001b[0;34m.\u001b[0m\u001b[0mh_dim\u001b[0m\u001b[0;34m)\u001b[0m\u001b[0;34m\u001b[0m\u001b[0m\n\u001b[1;32m     60\u001b[0m         \u001b[0mv_probs\u001b[0m \u001b[0;34m=\u001b[0m \u001b[0msigmoid\u001b[0m\u001b[0;34m(\u001b[0m\u001b[0mself\u001b[0m\u001b[0;34m.\u001b[0m\u001b[0ma\u001b[0m \u001b[0;34m+\u001b[0m \u001b[0mnp\u001b[0m\u001b[0;34m.\u001b[0m\u001b[0mdot\u001b[0m\u001b[0;34m(\u001b[0m\u001b[0mself\u001b[0m\u001b[0;34m.\u001b[0m\u001b[0mW\u001b[0m\u001b[0;34m,\u001b[0m\u001b[0mh\u001b[0m\u001b[0;34m)\u001b[0m\u001b[0;34m)\u001b[0m\u001b[0;34m\u001b[0m\u001b[0m\n\u001b[0;32m---> 61\u001b[0;31m         \u001b[0;32massert\u001b[0m\u001b[0;34m(\u001b[0m\u001b[0;32mnot\u001b[0m \u001b[0mnp\u001b[0m\u001b[0;34m.\u001b[0m\u001b[0msum\u001b[0m\u001b[0;34m(\u001b[0m\u001b[0mnp\u001b[0m\u001b[0;34m.\u001b[0m\u001b[0misnan\u001b[0m\u001b[0;34m(\u001b[0m\u001b[0mv_probs\u001b[0m\u001b[0;34m)\u001b[0m\u001b[0;34m)\u001b[0m\u001b[0;34m)\u001b[0m\u001b[0;34m\u001b[0m\u001b[0m\n\u001b[0m\u001b[1;32m     62\u001b[0m         \u001b[0;32mreturn\u001b[0m \u001b[0mv_probs\u001b[0m\u001b[0;34m\u001b[0m\u001b[0m\n\u001b[1;32m     63\u001b[0m \u001b[0;34m\u001b[0m\u001b[0m\n",
      "\u001b[0;31mAssertionError\u001b[0m: "
     ]
    }
   ],
   "source": [
    "# train a final RBM layer\n",
    "from RBM_with_linear_hidden_units import *\n",
    "\n",
    "final_layer = RBM_with_linear_hidden_units(v_dim = 250, h_dim = 2)\n",
    "final_layer.train(training_data.T,\n",
    "                  epochs = 10, \n",
    "                  batch_size = 20, \n",
    "                  learning_rate = .1, \n",
    "                  plot=True)"
   ]
  },
  {
   "cell_type": "code",
   "execution_count": null,
   "metadata": {},
   "outputs": [],
   "source": []
  }
 ],
 "metadata": {
  "kernelspec": {
   "display_name": "Python 3",
   "language": "python",
   "name": "python3"
  },
  "language_info": {
   "codemirror_mode": {
    "name": "ipython",
    "version": 3
   },
   "file_extension": ".py",
   "mimetype": "text/x-python",
   "name": "python",
   "nbconvert_exporter": "python",
   "pygments_lexer": "ipython3",
   "version": "3.6.5"
  }
 },
 "nbformat": 4,
 "nbformat_minor": 2
}
